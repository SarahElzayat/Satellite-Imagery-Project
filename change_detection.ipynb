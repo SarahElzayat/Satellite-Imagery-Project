{
 "cells": [
  {
   "cell_type": "code",
   "execution_count": 6,
   "metadata": {},
   "outputs": [],
   "source": [
    "# IMPORTS\n",
    "import os\n",
    "import numpy as np\n",
    "import cv2\n",
    "from sklearn.metrics import jaccard_score"
   ]
  },
  {
   "cell_type": "markdown",
   "metadata": {},
   "source": [
    "### Read Dataset"
   ]
  },
  {
   "cell_type": "code",
   "execution_count": 4,
   "metadata": {},
   "outputs": [],
   "source": [
    "def read_images(folder_path):\n",
    "   '''\n",
    "    Read images from a folder and return them as a list of numpy arrays.\n",
    "   '''\n",
    "   images = []\n",
    "   file_names = os.listdir(folder_path)\n",
    "   for file_name in file_names:\n",
    "         image = cv2.imread(os.path.join(folder_path, file_name))\n",
    "         images.append(image)\n",
    "   \n",
    "   return images\n",
    " \n",
    "# read dataset \n",
    "A = read_images('dataset/trainval/A') # initial images\n",
    "B = read_images('dataset/trainval/B') # images after a certain amount of time\n",
    "labels = read_images('dataset/trainval/label') # ground truth images (actual change)\n",
    "\n",
    "assert len(A) == len(B) == len(labels), \"Number of images in A, B and labels are not equal.\""
   ]
  },
  {
   "cell_type": "code",
   "execution_count": 5,
   "metadata": {},
   "outputs": [],
   "source": [
    "# Split dataset into training, validation and test sets\n",
    "def split_dataset(images_before, images_after, labels):\n",
    "    pass"
   ]
  },
  {
   "cell_type": "markdown",
   "metadata": {},
   "source": [
    "### Image Preprocessing\n"
   ]
  },
  {
   "cell_type": "code",
   "execution_count": null,
   "metadata": {},
   "outputs": [],
   "source": []
  },
  {
   "cell_type": "markdown",
   "metadata": {},
   "source": [
    "### Classical Technique:\n",
    "#### Image Differencing"
   ]
  },
  {
   "cell_type": "code",
   "execution_count": null,
   "metadata": {},
   "outputs": [],
   "source": []
  },
  {
   "cell_type": "markdown",
   "metadata": {},
   "source": [
    "### Deep Learning Technique:\n",
    "#### U-Net"
   ]
  },
  {
   "cell_type": "code",
   "execution_count": null,
   "metadata": {},
   "outputs": [],
   "source": []
  }
 ],
 "metadata": {
  "kernelspec": {
   "display_name": "Python 3",
   "language": "python",
   "name": "python3"
  },
  "language_info": {
   "codemirror_mode": {
    "name": "ipython",
    "version": 3
   },
   "file_extension": ".py",
   "mimetype": "text/x-python",
   "name": "python",
   "nbconvert_exporter": "python",
   "pygments_lexer": "ipython3",
   "version": "3.10.9"
  }
 },
 "nbformat": 4,
 "nbformat_minor": 2
}
